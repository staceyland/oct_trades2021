{
  "nbformat": 4,
  "nbformat_minor": 0,
  "metadata": {
    "colab": {
      "name": "OctoberCrypto2021.ipynb",
      "provenance": [],
      "collapsed_sections": [],
      "authorship_tag": "ABX9TyPQZ4y2B3CLv84a6xDFdRtb",
      "include_colab_link": true
    },
    "kernelspec": {
      "name": "python3",
      "display_name": "Python 3"
    },
    "language_info": {
      "name": "python"
    }
  },
  "cells": [
    {
      "cell_type": "markdown",
      "metadata": {
        "id": "view-in-github",
        "colab_type": "text"
      },
      "source": [
        "<a href=\"https://colab.research.google.com/github/staceyland/oct_trades2021/blob/main/OctoberCrypto2021.ipynb\" target=\"_parent\"><img src=\"https://colab.research.google.com/assets/colab-badge.svg\" alt=\"Open In Colab\"/></a>"
      ]
    },
    {
      "cell_type": "code",
      "metadata": {
        "id": "RiqoqwkMi_9C"
      },
      "source": [
        "import numpy as np\n",
        "import pandas as pd\n",
        "import matplotlib.pyplot as plt\n",
        "\n",
        "%matplotlib inline"
      ],
      "execution_count": 1,
      "outputs": []
    },
    {
      "cell_type": "markdown",
      "metadata": {
        "id": "8w4UM-wQHK1p"
      },
      "source": [
        "This is the analysis for the crypto trades I took since in October."
      ]
    },
    {
      "cell_type": "code",
      "metadata": {
        "id": "76dZhTJlw9nk"
      },
      "source": [
        "Crypto = pd.read_csv('/content/Crypto_OCT2021.csv', parse_dates=['Sale_date'])"
      ],
      "execution_count": 2,
      "outputs": []
    },
    {
      "cell_type": "markdown",
      "metadata": {
        "id": "jUrbgNfQHeZA"
      },
      "source": [
        "Let's take a look at the data. We have the markets traded, the date and times I entered and exited the trades, and the total profit earned (by percentage)."
      ]
    },
    {
      "cell_type": "code",
      "metadata": {
        "colab": {
          "base_uri": "https://localhost:8080/",
          "height": 206
        },
        "id": "SbgFHuSo00th",
        "outputId": "8ef90628-f49d-4f1e-da9b-2598d880d61e"
      },
      "source": [
        "Crypto.head()"
      ],
      "execution_count": 4,
      "outputs": [
        {
          "output_type": "execute_result",
          "data": {
            "text/html": [
              "<div>\n",
              "<style scoped>\n",
              "    .dataframe tbody tr th:only-of-type {\n",
              "        vertical-align: middle;\n",
              "    }\n",
              "\n",
              "    .dataframe tbody tr th {\n",
              "        vertical-align: top;\n",
              "    }\n",
              "\n",
              "    .dataframe thead th {\n",
              "        text-align: right;\n",
              "    }\n",
              "</style>\n",
              "<table border=\"1\" class=\"dataframe\">\n",
              "  <thead>\n",
              "    <tr style=\"text-align: right;\">\n",
              "      <th></th>\n",
              "      <th>Purchase_date</th>\n",
              "      <th>Sale_date</th>\n",
              "      <th>Pair</th>\n",
              "      <th>Market</th>\n",
              "      <th>Profit</th>\n",
              "      <th>Profit_percentage</th>\n",
              "    </tr>\n",
              "  </thead>\n",
              "  <tbody>\n",
              "    <tr>\n",
              "      <th>0</th>\n",
              "      <td>10/31/2021 13:46</td>\n",
              "      <td>2021-10-31 22:55:00</td>\n",
              "      <td>bnbusdt</td>\n",
              "      <td>BNB</td>\n",
              "      <td>6.56982</td>\n",
              "      <td>2.16</td>\n",
              "    </tr>\n",
              "    <tr>\n",
              "      <th>1</th>\n",
              "      <td>10/31/2021 12:09</td>\n",
              "      <td>2021-10-31 22:35:00</td>\n",
              "      <td>ethusdt</td>\n",
              "      <td>ETH</td>\n",
              "      <td>10.53673</td>\n",
              "      <td>2.84</td>\n",
              "    </tr>\n",
              "    <tr>\n",
              "      <th>2</th>\n",
              "      <td>10/31/2021 15:39</td>\n",
              "      <td>2021-10-31 21:36:00</td>\n",
              "      <td>ethusdt</td>\n",
              "      <td>ETH</td>\n",
              "      <td>1.09011</td>\n",
              "      <td>2.18</td>\n",
              "    </tr>\n",
              "    <tr>\n",
              "      <th>3</th>\n",
              "      <td>10/31/2021 6:49</td>\n",
              "      <td>2021-10-31 20:26:00</td>\n",
              "      <td>hntusdt</td>\n",
              "      <td>HNT</td>\n",
              "      <td>1.14977</td>\n",
              "      <td>2.12</td>\n",
              "    </tr>\n",
              "    <tr>\n",
              "      <th>4</th>\n",
              "      <td>10/30/2021 17:07</td>\n",
              "      <td>2021-10-31 18:30:00</td>\n",
              "      <td>dogeusdt</td>\n",
              "      <td>DOGE</td>\n",
              "      <td>1.54276</td>\n",
              "      <td>2.53</td>\n",
              "    </tr>\n",
              "  </tbody>\n",
              "</table>\n",
              "</div>"
            ],
            "text/plain": [
              "      Purchase_date           Sale_date  ...    Profit Profit_percentage\n",
              "0  10/31/2021 13:46 2021-10-31 22:55:00  ...   6.56982              2.16\n",
              "1  10/31/2021 12:09 2021-10-31 22:35:00  ...  10.53673              2.84\n",
              "2  10/31/2021 15:39 2021-10-31 21:36:00  ...   1.09011              2.18\n",
              "3   10/31/2021 6:49 2021-10-31 20:26:00  ...   1.14977              2.12\n",
              "4  10/30/2021 17:07 2021-10-31 18:30:00  ...   1.54276              2.53\n",
              "\n",
              "[5 rows x 6 columns]"
            ]
          },
          "metadata": {},
          "execution_count": 4
        }
      ]
    },
    {
      "cell_type": "markdown",
      "metadata": {
        "id": "A450NG6dHvCe"
      },
      "source": [
        "I made 270 trades."
      ]
    },
    {
      "cell_type": "code",
      "metadata": {
        "colab": {
          "base_uri": "https://localhost:8080/"
        },
        "id": "b3nxG0TkGkJo",
        "outputId": "263e076c-a4b1-4cf9-ebac-97053b99692d"
      },
      "source": [
        "Crypto.shape[0]"
      ],
      "execution_count": 3,
      "outputs": [
        {
          "output_type": "execute_result",
          "data": {
            "text/plain": [
              "270"
            ]
          },
          "metadata": {},
          "execution_count": 3
        }
      ]
    },
    {
      "cell_type": "markdown",
      "metadata": {
        "id": "OQ-qYrS61DTS"
      },
      "source": [
        "I averaged about 3% for each trade.\n",
        "\n"
      ]
    },
    {
      "cell_type": "code",
      "metadata": {
        "colab": {
          "base_uri": "https://localhost:8080/"
        },
        "id": "DQdyQheU1XzM",
        "outputId": "b13bc274-68c5-4ddb-d876-e9d070850ab8"
      },
      "source": [
        "Crypto['Profit_percentage'].mean()"
      ],
      "execution_count": 5,
      "outputs": [
        {
          "output_type": "execute_result",
          "data": {
            "text/plain": [
              "3.044814814814815"
            ]
          },
          "metadata": {},
          "execution_count": 5
        }
      ]
    },
    {
      "cell_type": "code",
      "metadata": {
        "colab": {
          "base_uri": "https://localhost:8080/",
          "height": 392
        },
        "id": "C5y9BcGl1rm5",
        "outputId": "808faad6-5807-4f28-bd4f-ea69ac5d69f3"
      },
      "source": [
        "Crypto['Profit_percentage'].plot(kind='kde', figsize=(10,6))"
      ],
      "execution_count": 6,
      "outputs": [
        {
          "output_type": "execute_result",
          "data": {
            "text/plain": [
              "<matplotlib.axes._subplots.AxesSubplot at 0x7f10e8187310>"
            ]
          },
          "metadata": {},
          "execution_count": 6
        },
        {
          "output_type": "display_data",
          "data": {
            "image/png": "[encoded data removed]",
            "text/plain": [
              "<Figure size 720x432 with 1 Axes>"
            ]
          },
          "metadata": {
            "needs_background": "light"
          }
        }
      ]
    },
    {
      "cell_type": "markdown",
      "metadata": {
        "id": "U5jHrooTIUdn"
      },
      "source": [
        "As we can see, most trades profited around 2%. There were several outliers above this percentage."
      ]
    },
    {
      "cell_type": "code",
      "metadata": {
        "colab": {
          "base_uri": "https://localhost:8080/",
          "height": 351
        },
        "id": "6KQM6Sou2KTg",
        "outputId": "7abecf07-a473-4089-95e8-20ded8294bf7"
      },
      "source": [
        "Crypto['Profit_percentage'].plot(kind='box', vert=False, figsize=(14,6))"
      ],
      "execution_count": 7,
      "outputs": [
        {
          "output_type": "execute_result",
          "data": {
            "text/plain": [
              "<matplotlib.axes._subplots.AxesSubplot at 0x7f10d4c389d0>"
            ]
          },
          "metadata": {},
          "execution_count": 7
        },
        {
          "output_type": "display_data",
          "data": {
            "image/png": "[encoded data removed]",
            "text/plain": [
              "<Figure size 1008x432 with 1 Axes>"
            ]
          },
          "metadata": {
            "needs_background": "light"
          }
        }
      ]
    },
    {
      "cell_type": "code",
      "metadata": {
        "colab": {
          "base_uri": "https://localhost:8080/",
          "height": 371
        },
        "id": "hXcna8Mq2w8w",
        "outputId": "384d442b-b87e-4e90-ec31-f91a8d378129"
      },
      "source": [
        "Crypto['Profit_percentage'].plot(kind='hist', bins=30, figsize=(14,6))"
      ],
      "execution_count": 8,
      "outputs": [
        {
          "output_type": "execute_result",
          "data": {
            "text/plain": [
              "<matplotlib.axes._subplots.AxesSubplot at 0x7f10d472b650>"
            ]
          },
          "metadata": {},
          "execution_count": 8
        },
        {
          "output_type": "display_data",
          "data": {
            "image/png": "[encoded data removed]",
            "text/plain": [
              "<Figure size 1008x432 with 1 Axes>"
            ]
          },
          "metadata": {
            "needs_background": "light"
          }
        }
      ]
    },
    {
      "cell_type": "markdown",
      "metadata": {
        "id": "X0xnw1v_I48K"
      },
      "source": [
        "We can see that most of the trades were in the Etherium market. Cardano received the least amount of trades."
      ]
    },
    {
      "cell_type": "code",
      "metadata": {
        "colab": {
          "base_uri": "https://localhost:8080/"
        },
        "id": "yveI4_YE2zXM",
        "outputId": "3cd90f21-3cf1-4b29-e2c8-4d664a6c613c"
      },
      "source": [
        "Crypto['Market'].value_counts()"
      ],
      "execution_count": 9,
      "outputs": [
        {
          "output_type": "execute_result",
          "data": {
            "text/plain": [
              "ETH     76\n",
              "BNB     63\n",
              "BTC     41\n",
              "DOGE    28\n",
              "HNT     28\n",
              "XRP     18\n",
              "ADA     16\n",
              "Name: Market, dtype: int64"
            ]
          },
          "metadata": {},
          "execution_count": 9
        }
      ]
    },
    {
      "cell_type": "code",
      "metadata": {
        "colab": {
          "base_uri": "https://localhost:8080/",
          "height": 399
        },
        "id": "FZlLEFh34Lqj",
        "outputId": "8f6337a1-1bc4-453e-af80-5ec4284de8ce"
      },
      "source": [
        "Crypto['Market'].value_counts().plot(kind='bar', figsize=(14,6))"
      ],
      "execution_count": 10,
      "outputs": [
        {
          "output_type": "execute_result",
          "data": {
            "text/plain": [
              "<matplotlib.axes._subplots.AxesSubplot at 0x7f10d468fe90>"
            ]
          },
          "metadata": {},
          "execution_count": 10
        },
        {
          "output_type": "display_data",
          "data": {
            "image/png": "[encoded data removed]",
            "text/plain": [
              "<Figure size 1008x432 with 1 Axes>"
            ]
          },
          "metadata": {
            "needs_background": "light"
          }
        }
      ]
    },
    {
      "cell_type": "code",
      "metadata": {
        "colab": {
          "base_uri": "https://localhost:8080/",
          "height": 375
        },
        "id": "4_i-miyB-yN2",
        "outputId": "44838eaf-77e1-4117-8cdd-14147983618d"
      },
      "source": [
        "Crypto['Market'].value_counts().plot(kind='pie', figsize=(6,6))\n"
      ],
      "execution_count": 11,
      "outputs": [
        {
          "output_type": "execute_result",
          "data": {
            "text/plain": [
              "<matplotlib.axes._subplots.AxesSubplot at 0x7f10d4648f50>"
            ]
          },
          "metadata": {},
          "execution_count": 11
        },
        {
          "output_type": "display_data",
          "data": {
            "image/png": "[encoded data removed]",
            "text/plain": [
              "<Figure size 432x432 with 1 Axes>"
            ]
          },
          "metadata": {}
        }
      ]
    },
    {
      "cell_type": "markdown",
      "metadata": {
        "id": "EmL8GWBAJNnI"
      },
      "source": [
        "Binance Coin had the most profitable trades."
      ]
    },
    {
      "cell_type": "code",
      "metadata": {
        "colab": {
          "base_uri": "https://localhost:8080/",
          "height": 406
        },
        "id": "aBszg8YO4yTf",
        "outputId": "40726f56-733d-41e3-8591-58cc4200c9cb"
      },
      "source": [
        "Crypto.plot(kind='scatter', x='Market', y='Profit_percentage', figsize=(6,6))"
      ],
      "execution_count": 12,
      "outputs": [
        {
          "output_type": "execute_result",
          "data": {
            "text/plain": [
              "<matplotlib.axes._subplots.AxesSubplot at 0x7f10d3ae6f90>"
            ]
          },
          "metadata": {},
          "execution_count": 12
        },
        {
          "output_type": "display_data",
          "data": {
            "image/png": "[encoded data removed]",
            "text/plain": [
              "<Figure size 432x432 with 1 Axes>"
            ]
          },
          "metadata": {
            "needs_background": "light"
          }
        }
      ]
    },
    {
      "cell_type": "code",
      "metadata": {
        "colab": {
          "base_uri": "https://localhost:8080/",
          "height": 495
        },
        "id": "3a4io5d05dXE",
        "outputId": "02639f11-4330-4644-fd89-d46c28c98356"
      },
      "source": [
        "Crypto[['Profit_percentage', 'Market']].boxplot(by='Market', figsize=(10,6))"
      ],
      "execution_count": 13,
      "outputs": [
        {
          "output_type": "stream",
          "name": "stderr",
          "text": [
            "/usr/local/lib/python3.7/dist-packages/numpy/core/_asarray.py:83: VisibleDeprecationWarning: Creating an ndarray from ragged nested sequences (which is a list-or-tuple of lists-or-tuples-or ndarrays with different lengths or shapes) is deprecated. If you meant to do this, you must specify 'dtype=object' when creating the ndarray\n",
            "  return array(a, dtype, copy=False, order=order)\n"
          ]
        },
        {
          "output_type": "execute_result",
          "data": {
            "text/plain": [
              "<matplotlib.axes._subplots.AxesSubplot at 0x7f10d3ae6c90>"
            ]
          },
          "metadata": {},
          "execution_count": 13
        },
        {
          "output_type": "display_data",
          "data": {
            "image/png": "[encoded data removed]",
            "text/plain": [
              "<Figure size 720x432 with 1 Axes>"
            ]
          },
          "metadata": {
            "needs_background": "light"
          }
        }
      ]
    },
    {
      "cell_type": "markdown",
      "metadata": {
        "id": "ZLs-I2R_7Tey"
      },
      "source": [
        "Let's find all of my Helium trades.\n"
      ]
    },
    {
      "cell_type": "code",
      "metadata": {
        "colab": {
          "base_uri": "https://localhost:8080/",
          "height": 928
        },
        "id": "fzNAFfXb7BrY",
        "outputId": "135d3c44-a9a7-43bf-d590-476a0fce25da"
      },
      "source": [
        "Crypto.loc[(Crypto['Market'] == 'HNT')]"
      ],
      "execution_count": 14,
      "outputs": [
        {
          "output_type": "execute_result",
          "data": {
            "text/html": [
              "<div>\n",
              "<style scoped>\n",
              "    .dataframe tbody tr th:only-of-type {\n",
              "        vertical-align: middle;\n",
              "    }\n",
              "\n",
              "    .dataframe tbody tr th {\n",
              "        vertical-align: top;\n",
              "    }\n",
              "\n",
              "    .dataframe thead th {\n",
              "        text-align: right;\n",
              "    }\n",
              "</style>\n",
              "<table border=\"1\" class=\"dataframe\">\n",
              "  <thead>\n",
              "    <tr style=\"text-align: right;\">\n",
              "      <th></th>\n",
              "      <th>Purchase_date</th>\n",
              "      <th>Sale_date</th>\n",
              "      <th>Pair</th>\n",
              "      <th>Market</th>\n",
              "      <th>Profit</th>\n",
              "      <th>Profit_percentage</th>\n",
              "    </tr>\n",
              "  </thead>\n",
              "  <tbody>\n",
              "    <tr>\n",
              "      <th>3</th>\n",
              "      <td>10/31/2021 6:49</td>\n",
              "      <td>2021-10-31 20:26:00</td>\n",
              "      <td>hntusdt</td>\n",
              "      <td>HNT</td>\n",
              "      <td>1.14977</td>\n",
              "      <td>2.12</td>\n",
              "    </tr>\n",
              "    <tr>\n",
              "      <th>6</th>\n",
              "      <td>10/31/2021 5:41</td>\n",
              "      <td>2021-10-31 07:26:00</td>\n",
              "      <td>hntusdt</td>\n",
              "      <td>HNT</td>\n",
              "      <td>0.90918</td>\n",
              "      <td>1.91</td>\n",
              "    </tr>\n",
              "    <tr>\n",
              "      <th>14</th>\n",
              "      <td>10/30/2021 5:32</td>\n",
              "      <td>2021-10-30 06:58:00</td>\n",
              "      <td>hntusdt</td>\n",
              "      <td>HNT</td>\n",
              "      <td>1.40868</td>\n",
              "      <td>1.90</td>\n",
              "    </tr>\n",
              "    <tr>\n",
              "      <th>16</th>\n",
              "      <td>10/29/2021 17:04</td>\n",
              "      <td>2021-10-30 00:15:00</td>\n",
              "      <td>hntusdt</td>\n",
              "      <td>HNT</td>\n",
              "      <td>2.00004</td>\n",
              "      <td>2.08</td>\n",
              "    </tr>\n",
              "    <tr>\n",
              "      <th>26</th>\n",
              "      <td>10/29/2021 6:42</td>\n",
              "      <td>2021-10-29 11:43:00</td>\n",
              "      <td>hntusdt</td>\n",
              "      <td>HNT</td>\n",
              "      <td>2.37920</td>\n",
              "      <td>2.36</td>\n",
              "    </tr>\n",
              "    <tr>\n",
              "      <th>27</th>\n",
              "      <td>10/28/2021 7:22</td>\n",
              "      <td>2021-10-29 08:39:00</td>\n",
              "      <td>hntusdt</td>\n",
              "      <td>HNT</td>\n",
              "      <td>5.58831</td>\n",
              "      <td>9.36</td>\n",
              "    </tr>\n",
              "    <tr>\n",
              "      <th>28</th>\n",
              "      <td>10/28/2021 20:09</td>\n",
              "      <td>2021-10-29 02:18:00</td>\n",
              "      <td>hntusdt</td>\n",
              "      <td>HNT</td>\n",
              "      <td>2.47724</td>\n",
              "      <td>2.19</td>\n",
              "    </tr>\n",
              "    <tr>\n",
              "      <th>37</th>\n",
              "      <td>10/28/2021 4:47</td>\n",
              "      <td>2021-10-28 13:40:00</td>\n",
              "      <td>hntusdt</td>\n",
              "      <td>HNT</td>\n",
              "      <td>1.23483</td>\n",
              "      <td>2.52</td>\n",
              "    </tr>\n",
              "    <tr>\n",
              "      <th>52</th>\n",
              "      <td>10/27/2021 6:15</td>\n",
              "      <td>2021-10-27 20:13:00</td>\n",
              "      <td>hntusdt</td>\n",
              "      <td>HNT</td>\n",
              "      <td>1.84774</td>\n",
              "      <td>2.42</td>\n",
              "    </tr>\n",
              "    <tr>\n",
              "      <th>53</th>\n",
              "      <td>10/27/2021 16:56</td>\n",
              "      <td>2021-10-27 18:25:00</td>\n",
              "      <td>hntusdt</td>\n",
              "      <td>HNT</td>\n",
              "      <td>1.14468</td>\n",
              "      <td>1.93</td>\n",
              "    </tr>\n",
              "    <tr>\n",
              "      <th>54</th>\n",
              "      <td>10/27/2021 7:41</td>\n",
              "      <td>2021-10-27 11:23:00</td>\n",
              "      <td>hntusdt</td>\n",
              "      <td>HNT</td>\n",
              "      <td>1.14785</td>\n",
              "      <td>1.87</td>\n",
              "    </tr>\n",
              "    <tr>\n",
              "      <th>58</th>\n",
              "      <td>10/27/2021 0:40</td>\n",
              "      <td>2021-10-27 01:13:00</td>\n",
              "      <td>hntusdt</td>\n",
              "      <td>HNT</td>\n",
              "      <td>1.39014</td>\n",
              "      <td>1.84</td>\n",
              "    </tr>\n",
              "    <tr>\n",
              "      <th>63</th>\n",
              "      <td>10/20/2021 22:57</td>\n",
              "      <td>2021-10-26 19:46:00</td>\n",
              "      <td>hntusdt</td>\n",
              "      <td>HNT</td>\n",
              "      <td>2.33115</td>\n",
              "      <td>2.06</td>\n",
              "    </tr>\n",
              "    <tr>\n",
              "      <th>64</th>\n",
              "      <td>10/21/2021 19:53</td>\n",
              "      <td>2021-10-26 15:36:00</td>\n",
              "      <td>hntusdt</td>\n",
              "      <td>HNT</td>\n",
              "      <td>2.25395</td>\n",
              "      <td>2.08</td>\n",
              "    </tr>\n",
              "    <tr>\n",
              "      <th>65</th>\n",
              "      <td>10/26/2021 11:08</td>\n",
              "      <td>2021-10-26 14:32:00</td>\n",
              "      <td>hntusdt</td>\n",
              "      <td>HNT</td>\n",
              "      <td>1.15288</td>\n",
              "      <td>2.30</td>\n",
              "    </tr>\n",
              "    <tr>\n",
              "      <th>68</th>\n",
              "      <td>10/22/2021 9:57</td>\n",
              "      <td>2021-10-26 07:36:00</td>\n",
              "      <td>hntusdt</td>\n",
              "      <td>HNT</td>\n",
              "      <td>1.29375</td>\n",
              "      <td>1.94</td>\n",
              "    </tr>\n",
              "    <tr>\n",
              "      <th>70</th>\n",
              "      <td>10/25/2021 20:06</td>\n",
              "      <td>2021-10-26 01:49:00</td>\n",
              "      <td>hntusdt</td>\n",
              "      <td>HNT</td>\n",
              "      <td>0.97111</td>\n",
              "      <td>1.99</td>\n",
              "    </tr>\n",
              "    <tr>\n",
              "      <th>80</th>\n",
              "      <td>10/24/2021 7:26</td>\n",
              "      <td>2021-10-25 04:15:00</td>\n",
              "      <td>hntusdt</td>\n",
              "      <td>HNT</td>\n",
              "      <td>0.96405</td>\n",
              "      <td>1.99</td>\n",
              "    </tr>\n",
              "    <tr>\n",
              "      <th>129</th>\n",
              "      <td>10/18/2021 20:54</td>\n",
              "      <td>2021-10-19 09:45:00</td>\n",
              "      <td>hntusdt</td>\n",
              "      <td>HNT</td>\n",
              "      <td>0.88543</td>\n",
              "      <td>1.81</td>\n",
              "    </tr>\n",
              "    <tr>\n",
              "      <th>146</th>\n",
              "      <td>10/17/2021 14:41</td>\n",
              "      <td>2021-10-18 04:02:00</td>\n",
              "      <td>hntusdt</td>\n",
              "      <td>HNT</td>\n",
              "      <td>1.24698</td>\n",
              "      <td>2.58</td>\n",
              "    </tr>\n",
              "    <tr>\n",
              "      <th>155</th>\n",
              "      <td>10/16/2021 21:38</td>\n",
              "      <td>2021-10-17 15:02:00</td>\n",
              "      <td>hntusdt</td>\n",
              "      <td>HNT</td>\n",
              "      <td>0.95599</td>\n",
              "      <td>1.84</td>\n",
              "    </tr>\n",
              "    <tr>\n",
              "      <th>156</th>\n",
              "      <td>10/15/2021 22:52</td>\n",
              "      <td>2021-10-16 16:00:00</td>\n",
              "      <td>hntusdt</td>\n",
              "      <td>HNT</td>\n",
              "      <td>2.17563</td>\n",
              "      <td>2.20</td>\n",
              "    </tr>\n",
              "    <tr>\n",
              "      <th>197</th>\n",
              "      <td>10/7/2021 10:24</td>\n",
              "      <td>2021-10-15 08:17:00</td>\n",
              "      <td>hntusdt</td>\n",
              "      <td>HNT</td>\n",
              "      <td>2.22084</td>\n",
              "      <td>3.39</td>\n",
              "    </tr>\n",
              "    <tr>\n",
              "      <th>198</th>\n",
              "      <td>10/8/2021 2:09</td>\n",
              "      <td>2021-10-15 07:43:00</td>\n",
              "      <td>hntusdt</td>\n",
              "      <td>HNT</td>\n",
              "      <td>2.74430</td>\n",
              "      <td>2.80</td>\n",
              "    </tr>\n",
              "    <tr>\n",
              "      <th>202</th>\n",
              "      <td>10/14/2021 14:44</td>\n",
              "      <td>2021-10-15 02:57:00</td>\n",
              "      <td>hntusdt</td>\n",
              "      <td>HNT</td>\n",
              "      <td>1.01008</td>\n",
              "      <td>2.03</td>\n",
              "    </tr>\n",
              "    <tr>\n",
              "      <th>204</th>\n",
              "      <td>10/14/2021 6:38</td>\n",
              "      <td>2021-10-14 22:28:00</td>\n",
              "      <td>hntusdt</td>\n",
              "      <td>HNT</td>\n",
              "      <td>1.46992</td>\n",
              "      <td>2.07</td>\n",
              "    </tr>\n",
              "    <tr>\n",
              "      <th>206</th>\n",
              "      <td>10/13/2021 4:31</td>\n",
              "      <td>2021-10-14 03:29:00</td>\n",
              "      <td>hntusdt</td>\n",
              "      <td>HNT</td>\n",
              "      <td>1.13635</td>\n",
              "      <td>2.35</td>\n",
              "    </tr>\n",
              "    <tr>\n",
              "      <th>232</th>\n",
              "      <td>10/5/2021 1:10</td>\n",
              "      <td>2021-10-06 17:09:00</td>\n",
              "      <td>hntusdt</td>\n",
              "      <td>HNT</td>\n",
              "      <td>3.01611</td>\n",
              "      <td>4.86</td>\n",
              "    </tr>\n",
              "  </tbody>\n",
              "</table>\n",
              "</div>"
            ],
            "text/plain": [
              "        Purchase_date           Sale_date  ...   Profit Profit_percentage\n",
              "3     10/31/2021 6:49 2021-10-31 20:26:00  ...  1.14977              2.12\n",
              "6     10/31/2021 5:41 2021-10-31 07:26:00  ...  0.90918              1.91\n",
              "14    10/30/2021 5:32 2021-10-30 06:58:00  ...  1.40868              1.90\n",
              "16   10/29/2021 17:04 2021-10-30 00:15:00  ...  2.00004              2.08\n",
              "26    10/29/2021 6:42 2021-10-29 11:43:00  ...  2.37920              2.36\n",
              "27    10/28/2021 7:22 2021-10-29 08:39:00  ...  5.58831              9.36\n",
              "28   10/28/2021 20:09 2021-10-29 02:18:00  ...  2.47724              2.19\n",
              "37    10/28/2021 4:47 2021-10-28 13:40:00  ...  1.23483              2.52\n",
              "52    10/27/2021 6:15 2021-10-27 20:13:00  ...  1.84774              2.42\n",
              "53   10/27/2021 16:56 2021-10-27 18:25:00  ...  1.14468              1.93\n",
              "54    10/27/2021 7:41 2021-10-27 11:23:00  ...  1.14785              1.87\n",
              "58    10/27/2021 0:40 2021-10-27 01:13:00  ...  1.39014              1.84\n",
              "63   10/20/2021 22:57 2021-10-26 19:46:00  ...  2.33115              2.06\n",
              "64   10/21/2021 19:53 2021-10-26 15:36:00  ...  2.25395              2.08\n",
              "65   10/26/2021 11:08 2021-10-26 14:32:00  ...  1.15288              2.30\n",
              "68    10/22/2021 9:57 2021-10-26 07:36:00  ...  1.29375              1.94\n",
              "70   10/25/2021 20:06 2021-10-26 01:49:00  ...  0.97111              1.99\n",
              "80    10/24/2021 7:26 2021-10-25 04:15:00  ...  0.96405              1.99\n",
              "129  10/18/2021 20:54 2021-10-19 09:45:00  ...  0.88543              1.81\n",
              "146  10/17/2021 14:41 2021-10-18 04:02:00  ...  1.24698              2.58\n",
              "155  10/16/2021 21:38 2021-10-17 15:02:00  ...  0.95599              1.84\n",
              "156  10/15/2021 22:52 2021-10-16 16:00:00  ...  2.17563              2.20\n",
              "197   10/7/2021 10:24 2021-10-15 08:17:00  ...  2.22084              3.39\n",
              "198    10/8/2021 2:09 2021-10-15 07:43:00  ...  2.74430              2.80\n",
              "202  10/14/2021 14:44 2021-10-15 02:57:00  ...  1.01008              2.03\n",
              "204   10/14/2021 6:38 2021-10-14 22:28:00  ...  1.46992              2.07\n",
              "206   10/13/2021 4:31 2021-10-14 03:29:00  ...  1.13635              2.35\n",
              "232    10/5/2021 1:10 2021-10-06 17:09:00  ...  3.01611              4.86\n",
              "\n",
              "[28 rows x 6 columns]"
            ]
          },
          "metadata": {},
          "execution_count": 14
        }
      ]
    },
    {
      "cell_type": "markdown",
      "metadata": {
        "id": "aupwysU0CvZQ"
      },
      "source": [
        "How many Helium trades were completed each day?"
      ]
    },
    {
      "cell_type": "code",
      "metadata": {
        "colab": {
          "base_uri": "https://localhost:8080/"
        },
        "id": "Wxc4hBPo9u7l",
        "outputId": "11cb33ca-a5b5-47d4-ab46-e85b045509df"
      },
      "source": [
        "HNT_trades = Crypto.loc[Crypto['Market'] == 'HNT', 'Sale_date'].value_counts()\n",
        "\n",
        "ETH_trades"
      ],
      "execution_count": 16,
      "outputs": [
        {
          "output_type": "execute_result",
          "data": {
            "text/plain": [
              "2021-10-26 07:36:00    1\n",
              "2021-10-16 16:00:00    1\n",
              "2021-10-14 03:29:00    1\n",
              "2021-10-17 15:02:00    1\n",
              "2021-10-06 17:09:00    1\n",
              "2021-10-18 04:02:00    1\n",
              "2021-10-29 08:39:00    1\n",
              "2021-10-26 15:36:00    1\n",
              "2021-10-26 14:32:00    1\n",
              "2021-10-14 22:28:00    1\n",
              "2021-10-29 11:43:00    1\n",
              "2021-10-30 06:58:00    1\n",
              "2021-10-30 00:15:00    1\n",
              "2021-10-26 19:46:00    1\n",
              "2021-10-15 08:17:00    1\n",
              "2021-10-31 07:26:00    1\n",
              "2021-10-29 02:18:00    1\n",
              "2021-10-27 01:13:00    1\n",
              "2021-10-27 20:13:00    1\n",
              "2021-10-15 02:57:00    1\n",
              "2021-10-31 20:26:00    1\n",
              "2021-10-25 04:15:00    1\n",
              "2021-10-27 11:23:00    1\n",
              "2021-10-19 09:45:00    1\n",
              "2021-10-27 18:25:00    1\n",
              "2021-10-15 07:43:00    1\n",
              "2021-10-28 13:40:00    1\n",
              "2021-10-26 01:49:00    1\n",
              "Name: Sale_date, dtype: int64"
            ]
          },
          "metadata": {},
          "execution_count": 16
        }
      ]
    },
    {
      "cell_type": "markdown",
      "metadata": {
        "id": "mNt96X2W_8fn"
      },
      "source": [
        "My highest profit percentage trade was Binance Coin. "
      ]
    },
    {
      "cell_type": "code",
      "metadata": {
        "colab": {
          "base_uri": "https://localhost:8080/",
          "height": 81
        },
        "id": "7iJnHf3XAAMj",
        "outputId": "a2e848e7-5157-4699-836c-9717843e1781"
      },
      "source": [
        "cond = Crypto['Profit_percentage'] == Crypto['Profit_percentage'].max()\n",
        "\n",
        "Crypto.loc[cond]"
      ],
      "execution_count": 18,
      "outputs": [
        {
          "output_type": "execute_result",
          "data": {
            "text/html": [
              "<div>\n",
              "<style scoped>\n",
              "    .dataframe tbody tr th:only-of-type {\n",
              "        vertical-align: middle;\n",
              "    }\n",
              "\n",
              "    .dataframe tbody tr th {\n",
              "        vertical-align: top;\n",
              "    }\n",
              "\n",
              "    .dataframe thead th {\n",
              "        text-align: right;\n",
              "    }\n",
              "</style>\n",
              "<table border=\"1\" class=\"dataframe\">\n",
              "  <thead>\n",
              "    <tr style=\"text-align: right;\">\n",
              "      <th></th>\n",
              "      <th>Purchase_date</th>\n",
              "      <th>Sale_date</th>\n",
              "      <th>Pair</th>\n",
              "      <th>Market</th>\n",
              "      <th>Profit</th>\n",
              "      <th>Profit_percentage</th>\n",
              "    </tr>\n",
              "  </thead>\n",
              "  <tbody>\n",
              "    <tr>\n",
              "      <th>175</th>\n",
              "      <td>10/12/2021 11:21</td>\n",
              "      <td>2021-10-15 12:35:00</td>\n",
              "      <td>bnbusdt</td>\n",
              "      <td>BNB</td>\n",
              "      <td>181.86847</td>\n",
              "      <td>16.26</td>\n",
              "    </tr>\n",
              "  </tbody>\n",
              "</table>\n",
              "</div>"
            ],
            "text/plain": [
              "        Purchase_date           Sale_date  ...     Profit Profit_percentage\n",
              "175  10/12/2021 11:21 2021-10-15 12:35:00  ...  181.86847             16.26\n",
              "\n",
              "[1 rows x 6 columns]"
            ]
          },
          "metadata": {},
          "execution_count": 18
        }
      ]
    },
    {
      "cell_type": "markdown",
      "metadata": {
        "id": "YTL21oP3FIr9"
      },
      "source": [
        "Etherium and Ripple were the lowest profit percentage trades. My strategy requires a minimum 1.8% profit."
      ]
    },
    {
      "cell_type": "code",
      "metadata": {
        "id": "0s7DZQHuAeQW",
        "colab": {
          "base_uri": "https://localhost:8080/",
          "height": 143
        },
        "outputId": "d36c86e8-84b5-4821-f8ba-e1a92507e84f"
      },
      "source": [
        "cond = Crypto['Profit_percentage'] == Crypto['Profit_percentage'].min()\n",
        "\n",
        "Crypto.loc[cond]"
      ],
      "execution_count": 19,
      "outputs": [
        {
          "output_type": "execute_result",
          "data": {
            "text/html": [
              "<div>\n",
              "<style scoped>\n",
              "    .dataframe tbody tr th:only-of-type {\n",
              "        vertical-align: middle;\n",
              "    }\n",
              "\n",
              "    .dataframe tbody tr th {\n",
              "        vertical-align: top;\n",
              "    }\n",
              "\n",
              "    .dataframe thead th {\n",
              "        text-align: right;\n",
              "    }\n",
              "</style>\n",
              "<table border=\"1\" class=\"dataframe\">\n",
              "  <thead>\n",
              "    <tr style=\"text-align: right;\">\n",
              "      <th></th>\n",
              "      <th>Purchase_date</th>\n",
              "      <th>Sale_date</th>\n",
              "      <th>Pair</th>\n",
              "      <th>Market</th>\n",
              "      <th>Profit</th>\n",
              "      <th>Profit_percentage</th>\n",
              "    </tr>\n",
              "  </thead>\n",
              "  <tbody>\n",
              "    <tr>\n",
              "      <th>69</th>\n",
              "      <td>10/21/2021 15:55</td>\n",
              "      <td>2021-10-26 05:47:00</td>\n",
              "      <td>xrpusdt</td>\n",
              "      <td>XRP</td>\n",
              "      <td>6.58630</td>\n",
              "      <td>1.8</td>\n",
              "    </tr>\n",
              "    <tr>\n",
              "      <th>73</th>\n",
              "      <td>10/21/2021 15:11</td>\n",
              "      <td>2021-10-25 17:15:00</td>\n",
              "      <td>ethusdt</td>\n",
              "      <td>ETH</td>\n",
              "      <td>9.79044</td>\n",
              "      <td>1.8</td>\n",
              "    </tr>\n",
              "    <tr>\n",
              "      <th>169</th>\n",
              "      <td>9/8/2021 5:25</td>\n",
              "      <td>2021-10-15 16:30:00</td>\n",
              "      <td>xrpusdt</td>\n",
              "      <td>XRP</td>\n",
              "      <td>1.59416</td>\n",
              "      <td>1.8</td>\n",
              "    </tr>\n",
              "  </tbody>\n",
              "</table>\n",
              "</div>"
            ],
            "text/plain": [
              "        Purchase_date           Sale_date  ...   Profit Profit_percentage\n",
              "69   10/21/2021 15:55 2021-10-26 05:47:00  ...  6.58630               1.8\n",
              "73   10/21/2021 15:11 2021-10-25 17:15:00  ...  9.79044               1.8\n",
              "169     9/8/2021 5:25 2021-10-15 16:30:00  ...  1.59416               1.8\n",
              "\n",
              "[3 rows x 6 columns]"
            ]
          },
          "metadata": {},
          "execution_count": 19
        }
      ]
    },
    {
      "cell_type": "markdown",
      "metadata": {
        "id": "it_CqCT3zku5"
      },
      "source": [
        "Let's see how much time it takes to complete a trade. I'll create a column to calculate the duration of each trade."
      ]
    },
    {
      "cell_type": "code",
      "metadata": {
        "id": "iothWRdQr0tb"
      },
      "source": [
        "Crypto[['Purchase_date','Sale_date']] = Crypto[['Purchase_date','Sale_date']].apply(pd.to_datetime) #if conversion required\n",
        "Crypto['Trade_duration'] = (Crypto['Sale_date'] - Crypto['Purchase_date']).dt.days"
      ],
      "execution_count": 20,
      "outputs": []
    },
    {
      "cell_type": "markdown",
      "metadata": {
        "id": "ca7blv73zxjT"
      },
      "source": [
        "Let's see the new column. Looks like a lot of trades were completed within the same day (0 duration)."
      ]
    },
    {
      "cell_type": "code",
      "metadata": {
        "colab": {
          "base_uri": "https://localhost:8080/",
          "height": 293
        },
        "id": "4YxyE62tsbda",
        "outputId": "b358b1f1-0ef4-4c52-a473-c4595c203ba8"
      },
      "source": [
        "Crypto.head()"
      ],
      "execution_count": 21,
      "outputs": [
        {
          "output_type": "execute_result",
          "data": {
            "text/html": [
              "<div>\n",
              "<style scoped>\n",
              "    .dataframe tbody tr th:only-of-type {\n",
              "        vertical-align: middle;\n",
              "    }\n",
              "\n",
              "    .dataframe tbody tr th {\n",
              "        vertical-align: top;\n",
              "    }\n",
              "\n",
              "    .dataframe thead th {\n",
              "        text-align: right;\n",
              "    }\n",
              "</style>\n",
              "<table border=\"1\" class=\"dataframe\">\n",
              "  <thead>\n",
              "    <tr style=\"text-align: right;\">\n",
              "      <th></th>\n",
              "      <th>Purchase_date</th>\n",
              "      <th>Sale_date</th>\n",
              "      <th>Pair</th>\n",
              "      <th>Market</th>\n",
              "      <th>Profit</th>\n",
              "      <th>Profit_percentage</th>\n",
              "      <th>Trade_duration</th>\n",
              "    </tr>\n",
              "  </thead>\n",
              "  <tbody>\n",
              "    <tr>\n",
              "      <th>0</th>\n",
              "      <td>2021-10-31 13:46:00</td>\n",
              "      <td>2021-10-31 22:55:00</td>\n",
              "      <td>bnbusdt</td>\n",
              "      <td>BNB</td>\n",
              "      <td>6.56982</td>\n",
              "      <td>2.16</td>\n",
              "      <td>0</td>\n",
              "    </tr>\n",
              "    <tr>\n",
              "      <th>1</th>\n",
              "      <td>2021-10-31 12:09:00</td>\n",
              "      <td>2021-10-31 22:35:00</td>\n",
              "      <td>ethusdt</td>\n",
              "      <td>ETH</td>\n",
              "      <td>10.53673</td>\n",
              "      <td>2.84</td>\n",
              "      <td>0</td>\n",
              "    </tr>\n",
              "    <tr>\n",
              "      <th>2</th>\n",
              "      <td>2021-10-31 15:39:00</td>\n",
              "      <td>2021-10-31 21:36:00</td>\n",
              "      <td>ethusdt</td>\n",
              "      <td>ETH</td>\n",
              "      <td>1.09011</td>\n",
              "      <td>2.18</td>\n",
              "      <td>0</td>\n",
              "    </tr>\n",
              "    <tr>\n",
              "      <th>3</th>\n",
              "      <td>2021-10-31 06:49:00</td>\n",
              "      <td>2021-10-31 20:26:00</td>\n",
              "      <td>hntusdt</td>\n",
              "      <td>HNT</td>\n",
              "      <td>1.14977</td>\n",
              "      <td>2.12</td>\n",
              "      <td>0</td>\n",
              "    </tr>\n",
              "    <tr>\n",
              "      <th>4</th>\n",
              "      <td>2021-10-30 17:07:00</td>\n",
              "      <td>2021-10-31 18:30:00</td>\n",
              "      <td>dogeusdt</td>\n",
              "      <td>DOGE</td>\n",
              "      <td>1.54276</td>\n",
              "      <td>2.53</td>\n",
              "      <td>1</td>\n",
              "    </tr>\n",
              "  </tbody>\n",
              "</table>\n",
              "</div>"
            ],
            "text/plain": [
              "        Purchase_date           Sale_date  ... Profit_percentage Trade_duration\n",
              "0 2021-10-31 13:46:00 2021-10-31 22:55:00  ...              2.16              0\n",
              "1 2021-10-31 12:09:00 2021-10-31 22:35:00  ...              2.84              0\n",
              "2 2021-10-31 15:39:00 2021-10-31 21:36:00  ...              2.18              0\n",
              "3 2021-10-31 06:49:00 2021-10-31 20:26:00  ...              2.12              0\n",
              "4 2021-10-30 17:07:00 2021-10-31 18:30:00  ...              2.53              1\n",
              "\n",
              "[5 rows x 7 columns]"
            ]
          },
          "metadata": {},
          "execution_count": 21
        }
      ]
    },
    {
      "cell_type": "markdown",
      "metadata": {
        "id": "__3DE7nlt7zN"
      },
      "source": [
        "What is the average number of days I held a trade?"
      ]
    },
    {
      "cell_type": "code",
      "metadata": {
        "colab": {
          "base_uri": "https://localhost:8080/"
        },
        "id": "utIbPaAOuBvJ",
        "outputId": "280b85ca-878f-4d16-afae-b933a5420dfc"
      },
      "source": [
        "Crypto['Trade_duration'].mean()"
      ],
      "execution_count": 22,
      "outputs": [
        {
          "output_type": "execute_result",
          "data": {
            "text/plain": [
              "4.837037037037037"
            ]
          },
          "metadata": {},
          "execution_count": 22
        }
      ]
    },
    {
      "cell_type": "markdown",
      "metadata": {
        "id": "CXiMVOmcz2X_"
      },
      "source": [
        "So, on average I spend almost 5 days in a trade to make an average 3% profit."
      ]
    },
    {
      "cell_type": "markdown",
      "metadata": {
        "id": "gBN-y4frvWZd"
      },
      "source": [
        "What is the shortest time I spent in a trade (days)?"
      ]
    },
    {
      "cell_type": "code",
      "metadata": {
        "colab": {
          "base_uri": "https://localhost:8080/"
        },
        "id": "lqUAIBhnvTqx",
        "outputId": "866bbf65-3483-40ff-cd63-ca5c2729146d"
      },
      "source": [
        "Crypto['Trade_duration'].min()"
      ],
      "execution_count": 23,
      "outputs": [
        {
          "output_type": "execute_result",
          "data": {
            "text/plain": [
              "0"
            ]
          },
          "metadata": {},
          "execution_count": 23
        }
      ]
    },
    {
      "cell_type": "markdown",
      "metadata": {
        "id": "P3OvgrlBvdd0"
      },
      "source": [
        "This tells me there are trades that I entered and exited in the same day. How may trades were there and what were the trades?"
      ]
    },
    {
      "cell_type": "code",
      "metadata": {
        "colab": {
          "base_uri": "https://localhost:8080/",
          "height": 597
        },
        "id": "xCbLpomBvF6L",
        "outputId": "c459efad-82b5-48ce-b740-8ec9fe07728a"
      },
      "source": [
        "cond = Crypto['Trade_duration'] == Crypto['Trade_duration'].min()\n",
        "\n",
        "Crypto.loc[cond]"
      ],
      "execution_count": 24,
      "outputs": [
        {
          "output_type": "execute_result",
          "data": {
            "text/html": [
              "<div>\n",
              "<style scoped>\n",
              "    .dataframe tbody tr th:only-of-type {\n",
              "        vertical-align: middle;\n",
              "    }\n",
              "\n",
              "    .dataframe tbody tr th {\n",
              "        vertical-align: top;\n",
              "    }\n",
              "\n",
              "    .dataframe thead th {\n",
              "        text-align: right;\n",
              "    }\n",
              "</style>\n",
              "<table border=\"1\" class=\"dataframe\">\n",
              "  <thead>\n",
              "    <tr style=\"text-align: right;\">\n",
              "      <th></th>\n",
              "      <th>Purchase_date</th>\n",
              "      <th>Sale_date</th>\n",
              "      <th>Pair</th>\n",
              "      <th>Market</th>\n",
              "      <th>Profit</th>\n",
              "      <th>Profit_percentage</th>\n",
              "      <th>Trade_duration</th>\n",
              "    </tr>\n",
              "  </thead>\n",
              "  <tbody>\n",
              "    <tr>\n",
              "      <th>0</th>\n",
              "      <td>2021-10-31 13:46:00</td>\n",
              "      <td>2021-10-31 22:55:00</td>\n",
              "      <td>bnbusdt</td>\n",
              "      <td>BNB</td>\n",
              "      <td>6.56982</td>\n",
              "      <td>2.16</td>\n",
              "      <td>0</td>\n",
              "    </tr>\n",
              "    <tr>\n",
              "      <th>1</th>\n",
              "      <td>2021-10-31 12:09:00</td>\n",
              "      <td>2021-10-31 22:35:00</td>\n",
              "      <td>ethusdt</td>\n",
              "      <td>ETH</td>\n",
              "      <td>10.53673</td>\n",
              "      <td>2.84</td>\n",
              "      <td>0</td>\n",
              "    </tr>\n",
              "    <tr>\n",
              "      <th>2</th>\n",
              "      <td>2021-10-31 15:39:00</td>\n",
              "      <td>2021-10-31 21:36:00</td>\n",
              "      <td>ethusdt</td>\n",
              "      <td>ETH</td>\n",
              "      <td>1.09011</td>\n",
              "      <td>2.18</td>\n",
              "      <td>0</td>\n",
              "    </tr>\n",
              "    <tr>\n",
              "      <th>3</th>\n",
              "      <td>2021-10-31 06:49:00</td>\n",
              "      <td>2021-10-31 20:26:00</td>\n",
              "      <td>hntusdt</td>\n",
              "      <td>HNT</td>\n",
              "      <td>1.14977</td>\n",
              "      <td>2.12</td>\n",
              "      <td>0</td>\n",
              "    </tr>\n",
              "    <tr>\n",
              "      <th>5</th>\n",
              "      <td>2021-10-31 14:30:00</td>\n",
              "      <td>2021-10-31 18:20:00</td>\n",
              "      <td>dogeusdt</td>\n",
              "      <td>DOGE</td>\n",
              "      <td>0.99661</td>\n",
              "      <td>2.01</td>\n",
              "      <td>0</td>\n",
              "    </tr>\n",
              "    <tr>\n",
              "      <th>...</th>\n",
              "      <td>...</td>\n",
              "      <td>...</td>\n",
              "      <td>...</td>\n",
              "      <td>...</td>\n",
              "      <td>...</td>\n",
              "      <td>...</td>\n",
              "      <td>...</td>\n",
              "    </tr>\n",
              "    <tr>\n",
              "      <th>252</th>\n",
              "      <td>2021-10-04 04:25:00</td>\n",
              "      <td>2021-10-04 07:53:00</td>\n",
              "      <td>bnbusdt</td>\n",
              "      <td>BNB</td>\n",
              "      <td>1.30440</td>\n",
              "      <td>2.04</td>\n",
              "      <td>0</td>\n",
              "    </tr>\n",
              "    <tr>\n",
              "      <th>254</th>\n",
              "      <td>2021-10-03 10:05:00</td>\n",
              "      <td>2021-10-03 19:36:00</td>\n",
              "      <td>bnbusdt</td>\n",
              "      <td>BNB</td>\n",
              "      <td>2.65848</td>\n",
              "      <td>2.50</td>\n",
              "      <td>0</td>\n",
              "    </tr>\n",
              "    <tr>\n",
              "      <th>256</th>\n",
              "      <td>2021-10-03 00:58:00</td>\n",
              "      <td>2021-10-03 06:35:00</td>\n",
              "      <td>bnbusdt</td>\n",
              "      <td>BNB</td>\n",
              "      <td>1.77900</td>\n",
              "      <td>1.84</td>\n",
              "      <td>0</td>\n",
              "    </tr>\n",
              "    <tr>\n",
              "      <th>257</th>\n",
              "      <td>2021-10-02 09:12:00</td>\n",
              "      <td>2021-10-03 03:28:00</td>\n",
              "      <td>xrpusdt</td>\n",
              "      <td>XRP</td>\n",
              "      <td>1.01233</td>\n",
              "      <td>2.02</td>\n",
              "      <td>0</td>\n",
              "    </tr>\n",
              "    <tr>\n",
              "      <th>266</th>\n",
              "      <td>2021-10-01 13:26:00</td>\n",
              "      <td>2021-10-01 19:05:00</td>\n",
              "      <td>ethusdt</td>\n",
              "      <td>ETH</td>\n",
              "      <td>1.03554</td>\n",
              "      <td>2.07</td>\n",
              "      <td>0</td>\n",
              "    </tr>\n",
              "  </tbody>\n",
              "</table>\n",
              "<p>131 rows × 7 columns</p>\n",
              "</div>"
            ],
            "text/plain": [
              "          Purchase_date           Sale_date  ... Profit_percentage Trade_duration\n",
              "0   2021-10-31 13:46:00 2021-10-31 22:55:00  ...              2.16              0\n",
              "1   2021-10-31 12:09:00 2021-10-31 22:35:00  ...              2.84              0\n",
              "2   2021-10-31 15:39:00 2021-10-31 21:36:00  ...              2.18              0\n",
              "3   2021-10-31 06:49:00 2021-10-31 20:26:00  ...              2.12              0\n",
              "5   2021-10-31 14:30:00 2021-10-31 18:20:00  ...              2.01              0\n",
              "..                  ...                 ...  ...               ...            ...\n",
              "252 2021-10-04 04:25:00 2021-10-04 07:53:00  ...              2.04              0\n",
              "254 2021-10-03 10:05:00 2021-10-03 19:36:00  ...              2.50              0\n",
              "256 2021-10-03 00:58:00 2021-10-03 06:35:00  ...              1.84              0\n",
              "257 2021-10-02 09:12:00 2021-10-03 03:28:00  ...              2.02              0\n",
              "266 2021-10-01 13:26:00 2021-10-01 19:05:00  ...              2.07              0\n",
              "\n",
              "[131 rows x 7 columns]"
            ]
          },
          "metadata": {},
          "execution_count": 24
        }
      ]
    },
    {
      "cell_type": "markdown",
      "metadata": {
        "id": "nWpdJ7R3vxU5"
      },
      "source": [
        "It looks like there were 131 trades that were completed in less than a day. What's the most amount of time I spent in a trade?"
      ]
    },
    {
      "cell_type": "code",
      "metadata": {
        "colab": {
          "base_uri": "https://localhost:8080/"
        },
        "id": "9Kyg56gyuMjY",
        "outputId": "7f446b57-22bd-4ae1-afea-ab43dd34aa29"
      },
      "source": [
        "Crypto['Trade_duration'].max()"
      ],
      "execution_count": 25,
      "outputs": [
        {
          "output_type": "execute_result",
          "data": {
            "text/plain": [
              "65"
            ]
          },
          "metadata": {},
          "execution_count": 25
        }
      ]
    },
    {
      "cell_type": "code",
      "metadata": {
        "colab": {
          "base_uri": "https://localhost:8080/",
          "height": 98
        },
        "id": "Hmfc6RNixlyS",
        "outputId": "e97f7550-6aa7-497e-8430-de1d650dd04d"
      },
      "source": [
        "cond = Crypto['Trade_duration'] == Crypto['Trade_duration'].max()\n",
        "\n",
        "Crypto.loc[cond]"
      ],
      "execution_count": 30,
      "outputs": [
        {
          "output_type": "execute_result",
          "data": {
            "text/html": [
              "<div>\n",
              "<style scoped>\n",
              "    .dataframe tbody tr th:only-of-type {\n",
              "        vertical-align: middle;\n",
              "    }\n",
              "\n",
              "    .dataframe tbody tr th {\n",
              "        vertical-align: top;\n",
              "    }\n",
              "\n",
              "    .dataframe thead th {\n",
              "        text-align: right;\n",
              "    }\n",
              "</style>\n",
              "<table border=\"1\" class=\"dataframe\">\n",
              "  <thead>\n",
              "    <tr style=\"text-align: right;\">\n",
              "      <th></th>\n",
              "      <th>Purchase_date</th>\n",
              "      <th>Sale_date</th>\n",
              "      <th>Pair</th>\n",
              "      <th>Market</th>\n",
              "      <th>Profit</th>\n",
              "      <th>Profit_percentage</th>\n",
              "      <th>Trade_duration</th>\n",
              "    </tr>\n",
              "  </thead>\n",
              "  <tbody>\n",
              "    <tr>\n",
              "      <th>18</th>\n",
              "      <td>2021-08-25 14:55:00</td>\n",
              "      <td>2021-10-29 17:15:00</td>\n",
              "      <td>bnbusdt</td>\n",
              "      <td>BNB</td>\n",
              "      <td>8.59884</td>\n",
              "      <td>5.04</td>\n",
              "      <td>65</td>\n",
              "    </tr>\n",
              "  </tbody>\n",
              "</table>\n",
              "</div>"
            ],
            "text/plain": [
              "         Purchase_date           Sale_date  ... Profit_percentage Trade_duration\n",
              "18 2021-08-25 14:55:00 2021-10-29 17:15:00  ...              5.04             65\n",
              "\n",
              "[1 rows x 7 columns]"
            ]
          },
          "metadata": {},
          "execution_count": 30
        }
      ]
    },
    {
      "cell_type": "markdown",
      "metadata": {
        "id": "BOGYv6dS0L5P"
      },
      "source": [
        "I spent 65 days in a BNB trade. That was almost my longest trade (ADA is the longest from August)."
      ]
    },
    {
      "cell_type": "code",
      "metadata": {
        "colab": {
          "base_uri": "https://localhost:8080/",
          "height": 495
        },
        "id": "bLaTsf19sfKI",
        "outputId": "c4619a3a-83c3-48ca-9733-5b1afe01045c"
      },
      "source": [
        "Crypto[['Trade_duration', 'Market']].boxplot(by='Market', figsize=(10,6))"
      ],
      "execution_count": 26,
      "outputs": [
        {
          "output_type": "stream",
          "name": "stderr",
          "text": [
            "/usr/local/lib/python3.7/dist-packages/numpy/core/_asarray.py:83: VisibleDeprecationWarning: Creating an ndarray from ragged nested sequences (which is a list-or-tuple of lists-or-tuples-or ndarrays with different lengths or shapes) is deprecated. If you meant to do this, you must specify 'dtype=object' when creating the ndarray\n",
            "  return array(a, dtype, copy=False, order=order)\n"
          ]
        },
        {
          "output_type": "execute_result",
          "data": {
            "text/plain": [
              "<matplotlib.axes._subplots.AxesSubplot at 0x7f10d382d610>"
            ]
          },
          "metadata": {},
          "execution_count": 26
        },
        {
          "output_type": "display_data",
          "data": {
            "image/png": "[encoded data removed]",
            "text/plain": [
              "<Figure size 720x432 with 1 Axes>"
            ]
          },
          "metadata": {
            "needs_background": "light"
          }
        }
      ]
    },
    {
      "cell_type": "markdown",
      "metadata": {
        "id": "XHgmwg6n0oAE"
      },
      "source": [
        "Which markets give faster turnarounds? Looks like DOGE may still be the best in terms of  profitability and time."
      ]
    },
    {
      "cell_type": "code",
      "metadata": {
        "colab": {
          "base_uri": "https://localhost:8080/",
          "height": 388
        },
        "id": "WSvQqy_WtHKH",
        "outputId": "a9ef3459-3c3a-4763-dc0c-10e13f0527ee"
      },
      "source": [
        "Crypto.plot(kind='scatter', x='Market', y='Trade_duration', figsize=(10,6))\n",
        "x = np.arange(0, 8, 2)\n",
        "y = np.sin(x)\n",
        "plt.plot(x, y)\n",
        "\n",
        "plt.show()"
      ],
      "execution_count": 27,
      "outputs": [
        {
          "output_type": "display_data",
          "data": {
            "image/png": "[encoded data removed]",
            "text/plain": [
              "<Figure size 720x432 with 1 Axes>"
            ]
          },
          "metadata": {
            "needs_background": "light"
          }
        }
      ]
    },
    {
      "cell_type": "markdown",
      "metadata": {
        "id": "CEK_tUGh1YRI"
      },
      "source": [
        "What were my DOGE trades?"
      ]
    },
    {
      "cell_type": "code",
      "metadata": {
        "colab": {
          "base_uri": "https://localhost:8080/",
          "height": 520
        },
        "id": "n5ykShP61bIc",
        "outputId": "f666663b-8ba8-4c9e-fbbd-562ab7da6926"
      },
      "source": [
        "Crypto.loc[(Crypto['Market'] == 'DOGE')]"
      ],
      "execution_count": null,
      "outputs": [
        {
          "output_type": "execute_result",
          "data": {
            "text/html": [
              "<div>\n",
              "<style scoped>\n",
              "    .dataframe tbody tr th:only-of-type {\n",
              "        vertical-align: middle;\n",
              "    }\n",
              "\n",
              "    .dataframe tbody tr th {\n",
              "        vertical-align: top;\n",
              "    }\n",
              "\n",
              "    .dataframe thead th {\n",
              "        text-align: right;\n",
              "    }\n",
              "</style>\n",
              "<table border=\"1\" class=\"dataframe\">\n",
              "  <thead>\n",
              "    <tr style=\"text-align: right;\">\n",
              "      <th></th>\n",
              "      <th>Purchase_date</th>\n",
              "      <th>Purchase_time</th>\n",
              "      <th>Sell_date</th>\n",
              "      <th>Sell_time</th>\n",
              "      <th>Market</th>\n",
              "      <th>Profit percentage</th>\n",
              "      <th>Trade_duration</th>\n",
              "    </tr>\n",
              "  </thead>\n",
              "  <tbody>\n",
              "    <tr>\n",
              "      <th>59</th>\n",
              "      <td>2021-07-28</td>\n",
              "      <td>1:15:17 PM</td>\n",
              "      <td>2021-08-08</td>\n",
              "      <td>12:56:24 AM</td>\n",
              "      <td>DOGE</td>\n",
              "      <td>34.83</td>\n",
              "      <td>11</td>\n",
              "    </tr>\n",
              "    <tr>\n",
              "      <th>127</th>\n",
              "      <td>2021-08-07</td>\n",
              "      <td>5:55:42 AM</td>\n",
              "      <td>2021-08-08</td>\n",
              "      <td>12:58:28 AM</td>\n",
              "      <td>DOGE</td>\n",
              "      <td>27.06</td>\n",
              "      <td>1</td>\n",
              "    </tr>\n",
              "    <tr>\n",
              "      <th>143</th>\n",
              "      <td>2021-08-09</td>\n",
              "      <td>1:18:50 AM</td>\n",
              "      <td>2021-08-09</td>\n",
              "      <td>1:52:04 PM</td>\n",
              "      <td>DOGE</td>\n",
              "      <td>7.27</td>\n",
              "      <td>0</td>\n",
              "    </tr>\n",
              "    <tr>\n",
              "      <th>147</th>\n",
              "      <td>2021-08-09</td>\n",
              "      <td>8:40:47 AM</td>\n",
              "      <td>2021-08-09</td>\n",
              "      <td>1:52:59 PM</td>\n",
              "      <td>DOGE</td>\n",
              "      <td>3.16</td>\n",
              "      <td>0</td>\n",
              "    </tr>\n",
              "    <tr>\n",
              "      <th>148</th>\n",
              "      <td>2021-08-09</td>\n",
              "      <td>8:54:58 AM</td>\n",
              "      <td>2021-08-09</td>\n",
              "      <td>1:53:13 PM</td>\n",
              "      <td>DOGE</td>\n",
              "      <td>2.90</td>\n",
              "      <td>0</td>\n",
              "    </tr>\n",
              "    <tr>\n",
              "      <th>149</th>\n",
              "      <td>2021-08-09</td>\n",
              "      <td>12:30:11 PM</td>\n",
              "      <td>2021-08-12</td>\n",
              "      <td>5:26:22 AM</td>\n",
              "      <td>DOGE</td>\n",
              "      <td>6.68</td>\n",
              "      <td>3</td>\n",
              "    </tr>\n",
              "    <tr>\n",
              "      <th>157</th>\n",
              "      <td>2021-08-10</td>\n",
              "      <td>7:36:11 AM</td>\n",
              "      <td>2021-08-12</td>\n",
              "      <td>5:27:00 AM</td>\n",
              "      <td>DOGE</td>\n",
              "      <td>6.73</td>\n",
              "      <td>2</td>\n",
              "    </tr>\n",
              "    <tr>\n",
              "      <th>159</th>\n",
              "      <td>2021-08-10</td>\n",
              "      <td>12:37:46 PM</td>\n",
              "      <td>2021-08-12</td>\n",
              "      <td>5:27:46 AM</td>\n",
              "      <td>DOGE</td>\n",
              "      <td>5.63</td>\n",
              "      <td>2</td>\n",
              "    </tr>\n",
              "    <tr>\n",
              "      <th>167</th>\n",
              "      <td>2021-08-11</td>\n",
              "      <td>12:09:03 PM</td>\n",
              "      <td>2021-08-14</td>\n",
              "      <td>7:49:56 AM</td>\n",
              "      <td>DOGE</td>\n",
              "      <td>9.71</td>\n",
              "      <td>3</td>\n",
              "    </tr>\n",
              "    <tr>\n",
              "      <th>168</th>\n",
              "      <td>2021-08-11</td>\n",
              "      <td>12:09:36 PM</td>\n",
              "      <td>2021-08-14</td>\n",
              "      <td>7:50:29 AM</td>\n",
              "      <td>DOGE</td>\n",
              "      <td>11.50</td>\n",
              "      <td>3</td>\n",
              "    </tr>\n",
              "    <tr>\n",
              "      <th>174</th>\n",
              "      <td>2021-08-11</td>\n",
              "      <td>9:41:51 PM</td>\n",
              "      <td>2021-08-14</td>\n",
              "      <td>7:52:30 AM</td>\n",
              "      <td>DOGE</td>\n",
              "      <td>7.13</td>\n",
              "      <td>3</td>\n",
              "    </tr>\n",
              "    <tr>\n",
              "      <th>183</th>\n",
              "      <td>2021-08-12</td>\n",
              "      <td>7:57:04 AM</td>\n",
              "      <td>2021-08-14</td>\n",
              "      <td>7:53:37 AM</td>\n",
              "      <td>DOGE</td>\n",
              "      <td>6.99</td>\n",
              "      <td>2</td>\n",
              "    </tr>\n",
              "    <tr>\n",
              "      <th>184</th>\n",
              "      <td>2021-08-12</td>\n",
              "      <td>10:16:21 AM</td>\n",
              "      <td>2021-08-14</td>\n",
              "      <td>7:54:22 AM</td>\n",
              "      <td>DOGE</td>\n",
              "      <td>7.12</td>\n",
              "      <td>2</td>\n",
              "    </tr>\n",
              "    <tr>\n",
              "      <th>187</th>\n",
              "      <td>2021-08-12</td>\n",
              "      <td>12:45:27 PM</td>\n",
              "      <td>2021-08-14</td>\n",
              "      <td>7:54:54 AM</td>\n",
              "      <td>DOGE</td>\n",
              "      <td>11.18</td>\n",
              "      <td>2</td>\n",
              "    </tr>\n",
              "    <tr>\n",
              "      <th>192</th>\n",
              "      <td>2021-08-12</td>\n",
              "      <td>8:10:41 PM</td>\n",
              "      <td>2021-08-14</td>\n",
              "      <td>7:55:37 AM</td>\n",
              "      <td>DOGE</td>\n",
              "      <td>10.95</td>\n",
              "      <td>2</td>\n",
              "    </tr>\n",
              "  </tbody>\n",
              "</table>\n",
              "</div>"
            ],
            "text/plain": [
              "    Purchase_date Purchase_time  ... Profit percentage Trade_duration\n",
              "59     2021-07-28    1:15:17 PM  ...             34.83             11\n",
              "127    2021-08-07    5:55:42 AM  ...             27.06              1\n",
              "143    2021-08-09    1:18:50 AM  ...              7.27              0\n",
              "147    2021-08-09    8:40:47 AM  ...              3.16              0\n",
              "148    2021-08-09    8:54:58 AM  ...              2.90              0\n",
              "149    2021-08-09   12:30:11 PM  ...              6.68              3\n",
              "157    2021-08-10    7:36:11 AM  ...              6.73              2\n",
              "159    2021-08-10   12:37:46 PM  ...              5.63              2\n",
              "167    2021-08-11   12:09:03 PM  ...              9.71              3\n",
              "168    2021-08-11   12:09:36 PM  ...             11.50              3\n",
              "174    2021-08-11    9:41:51 PM  ...              7.13              3\n",
              "183    2021-08-12    7:57:04 AM  ...              6.99              2\n",
              "184    2021-08-12   10:16:21 AM  ...              7.12              2\n",
              "187    2021-08-12   12:45:27 PM  ...             11.18              2\n",
              "192    2021-08-12    8:10:41 PM  ...             10.95              2\n",
              "\n",
              "[15 rows x 7 columns]"
            ]
          },
          "metadata": {},
          "execution_count": 157
        }
      ]
    },
    {
      "cell_type": "markdown",
      "metadata": {
        "id": "v984_6r44RcK"
      },
      "source": [
        "What were my ADA trades?"
      ]
    },
    {
      "cell_type": "code",
      "metadata": {
        "colab": {
          "base_uri": "https://localhost:8080/",
          "height": 928
        },
        "id": "lflyNKNY4Q2N",
        "outputId": "ede22841-471e-4ee4-fb77-109af244995e"
      },
      "source": [
        "Crypto.loc[(Crypto['Market'] == 'ADA')]"
      ],
      "execution_count": null,
      "outputs": [
        {
          "output_type": "execute_result",
          "data": {
            "text/html": [
              "<div>\n",
              "<style scoped>\n",
              "    .dataframe tbody tr th:only-of-type {\n",
              "        vertical-align: middle;\n",
              "    }\n",
              "\n",
              "    .dataframe tbody tr th {\n",
              "        vertical-align: top;\n",
              "    }\n",
              "\n",
              "    .dataframe thead th {\n",
              "        text-align: right;\n",
              "    }\n",
              "</style>\n",
              "<table border=\"1\" class=\"dataframe\">\n",
              "  <thead>\n",
              "    <tr style=\"text-align: right;\">\n",
              "      <th></th>\n",
              "      <th>Purchase_date</th>\n",
              "      <th>Purchase_time</th>\n",
              "      <th>Sell_date</th>\n",
              "      <th>Sell_time</th>\n",
              "      <th>Market</th>\n",
              "      <th>Profit percentage</th>\n",
              "      <th>Trade_duration</th>\n",
              "    </tr>\n",
              "  </thead>\n",
              "  <tbody>\n",
              "    <tr>\n",
              "      <th>1</th>\n",
              "      <td>2021-06-05</td>\n",
              "      <td>3:03:56 PM</td>\n",
              "      <td>2021-06-07</td>\n",
              "      <td>12:00:12 PM</td>\n",
              "      <td>ADA</td>\n",
              "      <td>3.10</td>\n",
              "      <td>2</td>\n",
              "    </tr>\n",
              "    <tr>\n",
              "      <th>2</th>\n",
              "      <td>2021-06-05</td>\n",
              "      <td>3:39:57 PM</td>\n",
              "      <td>2021-08-11</td>\n",
              "      <td>5:40:17 AM</td>\n",
              "      <td>ADA</td>\n",
              "      <td>3.34</td>\n",
              "      <td>67</td>\n",
              "    </tr>\n",
              "    <tr>\n",
              "      <th>3</th>\n",
              "      <td>2021-06-10</td>\n",
              "      <td>6:14:45 AM</td>\n",
              "      <td>2021-08-11</td>\n",
              "      <td>5:44:49 AM</td>\n",
              "      <td>ADA</td>\n",
              "      <td>10.97</td>\n",
              "      <td>62</td>\n",
              "    </tr>\n",
              "    <tr>\n",
              "      <th>22</th>\n",
              "      <td>2021-06-16</td>\n",
              "      <td>5:19:28 PM</td>\n",
              "      <td>2021-06-17</td>\n",
              "      <td>4:21:20 AM</td>\n",
              "      <td>ADA</td>\n",
              "      <td>2.32</td>\n",
              "      <td>1</td>\n",
              "    </tr>\n",
              "    <tr>\n",
              "      <th>27</th>\n",
              "      <td>2021-06-17</td>\n",
              "      <td>6:40:09 AM</td>\n",
              "      <td>2021-08-10</td>\n",
              "      <td>10:25:31 PM</td>\n",
              "      <td>ADA</td>\n",
              "      <td>9.54</td>\n",
              "      <td>54</td>\n",
              "    </tr>\n",
              "    <tr>\n",
              "      <th>32</th>\n",
              "      <td>2021-06-17</td>\n",
              "      <td>1:14:39 PM</td>\n",
              "      <td>2021-08-10</td>\n",
              "      <td>10:25:36 PM</td>\n",
              "      <td>ADA</td>\n",
              "      <td>11.83</td>\n",
              "      <td>54</td>\n",
              "    </tr>\n",
              "    <tr>\n",
              "      <th>74</th>\n",
              "      <td>2021-08-01</td>\n",
              "      <td>8:17:31 AM</td>\n",
              "      <td>2021-08-08</td>\n",
              "      <td>12:48:51 AM</td>\n",
              "      <td>ADA</td>\n",
              "      <td>7.30</td>\n",
              "      <td>7</td>\n",
              "    </tr>\n",
              "    <tr>\n",
              "      <th>91</th>\n",
              "      <td>2021-08-03</td>\n",
              "      <td>1:27:32 AM</td>\n",
              "      <td>2021-08-03</td>\n",
              "      <td>2:49:19 PM</td>\n",
              "      <td>ADA</td>\n",
              "      <td>3.61</td>\n",
              "      <td>0</td>\n",
              "    </tr>\n",
              "    <tr>\n",
              "      <th>153</th>\n",
              "      <td>2021-08-10</td>\n",
              "      <td>5:11:14 AM</td>\n",
              "      <td>2021-08-10</td>\n",
              "      <td>10:29:57 PM</td>\n",
              "      <td>ADA</td>\n",
              "      <td>13.71</td>\n",
              "      <td>0</td>\n",
              "    </tr>\n",
              "    <tr>\n",
              "      <th>173</th>\n",
              "      <td>2021-08-11</td>\n",
              "      <td>4:18:51 PM</td>\n",
              "      <td>2021-08-13</td>\n",
              "      <td>12:00:49 PM</td>\n",
              "      <td>ADA</td>\n",
              "      <td>8.94</td>\n",
              "      <td>2</td>\n",
              "    </tr>\n",
              "    <tr>\n",
              "      <th>196</th>\n",
              "      <td>2021-08-13</td>\n",
              "      <td>5:49:23 PM</td>\n",
              "      <td>2021-08-14</td>\n",
              "      <td>4:52:48 AM</td>\n",
              "      <td>ADA</td>\n",
              "      <td>4.06</td>\n",
              "      <td>1</td>\n",
              "    </tr>\n",
              "    <tr>\n",
              "      <th>203</th>\n",
              "      <td>2021-08-14</td>\n",
              "      <td>5:27:02 AM</td>\n",
              "      <td>2021-08-14</td>\n",
              "      <td>6:34:12 AM</td>\n",
              "      <td>ADA</td>\n",
              "      <td>2.17</td>\n",
              "      <td>0</td>\n",
              "    </tr>\n",
              "    <tr>\n",
              "      <th>207</th>\n",
              "      <td>2021-08-14</td>\n",
              "      <td>12:38:06 PM</td>\n",
              "      <td>2021-08-19</td>\n",
              "      <td>9:54:44 PM</td>\n",
              "      <td>ADA</td>\n",
              "      <td>9.50</td>\n",
              "      <td>5</td>\n",
              "    </tr>\n",
              "    <tr>\n",
              "      <th>210</th>\n",
              "      <td>2021-08-14</td>\n",
              "      <td>2:45:31 PM</td>\n",
              "      <td>2021-08-19</td>\n",
              "      <td>9:57:43 PM</td>\n",
              "      <td>ADA</td>\n",
              "      <td>7.62</td>\n",
              "      <td>5</td>\n",
              "    </tr>\n",
              "    <tr>\n",
              "      <th>215</th>\n",
              "      <td>2021-08-15</td>\n",
              "      <td>5:25:20 AM</td>\n",
              "      <td>2021-08-19</td>\n",
              "      <td>6:47:44 PM</td>\n",
              "      <td>ADA</td>\n",
              "      <td>5.00</td>\n",
              "      <td>4</td>\n",
              "    </tr>\n",
              "    <tr>\n",
              "      <th>225</th>\n",
              "      <td>2021-08-16</td>\n",
              "      <td>2:05:07 PM</td>\n",
              "      <td>2021-08-19</td>\n",
              "      <td>10:03:28 PM</td>\n",
              "      <td>ADA</td>\n",
              "      <td>11.60</td>\n",
              "      <td>3</td>\n",
              "    </tr>\n",
              "    <tr>\n",
              "      <th>235</th>\n",
              "      <td>2021-08-17</td>\n",
              "      <td>6:32:06 AM</td>\n",
              "      <td>2021-08-18</td>\n",
              "      <td>11:46:27 PM</td>\n",
              "      <td>ADA</td>\n",
              "      <td>2.16</td>\n",
              "      <td>1</td>\n",
              "    </tr>\n",
              "    <tr>\n",
              "      <th>240</th>\n",
              "      <td>2021-08-17</td>\n",
              "      <td>5:13:49 PM</td>\n",
              "      <td>2021-08-18</td>\n",
              "      <td>11:47:26 PM</td>\n",
              "      <td>ADA</td>\n",
              "      <td>3.44</td>\n",
              "      <td>1</td>\n",
              "    </tr>\n",
              "    <tr>\n",
              "      <th>262</th>\n",
              "      <td>2021-08-19</td>\n",
              "      <td>11:03:13 PM</td>\n",
              "      <td>2021-08-20</td>\n",
              "      <td>5:24:57 AM</td>\n",
              "      <td>ADA</td>\n",
              "      <td>5.50</td>\n",
              "      <td>1</td>\n",
              "    </tr>\n",
              "    <tr>\n",
              "      <th>263</th>\n",
              "      <td>2021-08-20</td>\n",
              "      <td>12:16:59 AM</td>\n",
              "      <td>2021-08-20</td>\n",
              "      <td>9:44:00 AM</td>\n",
              "      <td>ADA</td>\n",
              "      <td>2.49</td>\n",
              "      <td>0</td>\n",
              "    </tr>\n",
              "    <tr>\n",
              "      <th>264</th>\n",
              "      <td>2021-08-20</td>\n",
              "      <td>5:08:10 AM</td>\n",
              "      <td>2021-08-22</td>\n",
              "      <td>1:05:36 PM</td>\n",
              "      <td>ADA</td>\n",
              "      <td>2.45</td>\n",
              "      <td>2</td>\n",
              "    </tr>\n",
              "    <tr>\n",
              "      <th>266</th>\n",
              "      <td>2021-08-20</td>\n",
              "      <td>12:45:09 PM</td>\n",
              "      <td>2021-08-22</td>\n",
              "      <td>10:13:22 AM</td>\n",
              "      <td>ADA</td>\n",
              "      <td>5.42</td>\n",
              "      <td>2</td>\n",
              "    </tr>\n",
              "    <tr>\n",
              "      <th>271</th>\n",
              "      <td>2021-08-21</td>\n",
              "      <td>10:27:31 AM</td>\n",
              "      <td>2021-08-22</td>\n",
              "      <td>10:20:13 AM</td>\n",
              "      <td>ADA</td>\n",
              "      <td>6.12</td>\n",
              "      <td>1</td>\n",
              "    </tr>\n",
              "    <tr>\n",
              "      <th>274</th>\n",
              "      <td>2021-08-21</td>\n",
              "      <td>7:36:06 PM</td>\n",
              "      <td>2021-08-22</td>\n",
              "      <td>5:10:40 AM</td>\n",
              "      <td>ADA</td>\n",
              "      <td>3.34</td>\n",
              "      <td>1</td>\n",
              "    </tr>\n",
              "    <tr>\n",
              "      <th>276</th>\n",
              "      <td>2021-08-22</td>\n",
              "      <td>6:25:38 AM</td>\n",
              "      <td>2021-08-23</td>\n",
              "      <td>1:23:30 AM</td>\n",
              "      <td>ADA</td>\n",
              "      <td>11.04</td>\n",
              "      <td>1</td>\n",
              "    </tr>\n",
              "    <tr>\n",
              "      <th>277</th>\n",
              "      <td>2021-08-22</td>\n",
              "      <td>1:29:33 PM</td>\n",
              "      <td>2021-08-23</td>\n",
              "      <td>1:31:47 AM</td>\n",
              "      <td>ADA</td>\n",
              "      <td>10.30</td>\n",
              "      <td>1</td>\n",
              "    </tr>\n",
              "    <tr>\n",
              "      <th>282</th>\n",
              "      <td>2021-08-23</td>\n",
              "      <td>2:38:17 AM</td>\n",
              "      <td>2021-08-23</td>\n",
              "      <td>5:05:48 PM</td>\n",
              "      <td>ADA</td>\n",
              "      <td>5.10</td>\n",
              "      <td>0</td>\n",
              "    </tr>\n",
              "    <tr>\n",
              "      <th>297</th>\n",
              "      <td>2021-08-26</td>\n",
              "      <td>4:30:16 AM</td>\n",
              "      <td>2021-08-27</td>\n",
              "      <td>5:38:37 PM</td>\n",
              "      <td>ADA</td>\n",
              "      <td>8.03</td>\n",
              "      <td>1</td>\n",
              "    </tr>\n",
              "  </tbody>\n",
              "</table>\n",
              "</div>"
            ],
            "text/plain": [
              "    Purchase_date Purchase_time  ... Profit percentage Trade_duration\n",
              "1      2021-06-05    3:03:56 PM  ...              3.10              2\n",
              "2      2021-06-05    3:39:57 PM  ...              3.34             67\n",
              "3      2021-06-10    6:14:45 AM  ...             10.97             62\n",
              "22     2021-06-16    5:19:28 PM  ...              2.32              1\n",
              "27     2021-06-17    6:40:09 AM  ...              9.54             54\n",
              "32     2021-06-17    1:14:39 PM  ...             11.83             54\n",
              "74     2021-08-01    8:17:31 AM  ...              7.30              7\n",
              "91     2021-08-03    1:27:32 AM  ...              3.61              0\n",
              "153    2021-08-10    5:11:14 AM  ...             13.71              0\n",
              "173    2021-08-11    4:18:51 PM  ...              8.94              2\n",
              "196    2021-08-13    5:49:23 PM  ...              4.06              1\n",
              "203    2021-08-14    5:27:02 AM  ...              2.17              0\n",
              "207    2021-08-14   12:38:06 PM  ...              9.50              5\n",
              "210    2021-08-14    2:45:31 PM  ...              7.62              5\n",
              "215    2021-08-15    5:25:20 AM  ...              5.00              4\n",
              "225    2021-08-16    2:05:07 PM  ...             11.60              3\n",
              "235    2021-08-17    6:32:06 AM  ...              2.16              1\n",
              "240    2021-08-17    5:13:49 PM  ...              3.44              1\n",
              "262    2021-08-19   11:03:13 PM  ...              5.50              1\n",
              "263    2021-08-20   12:16:59 AM  ...              2.49              0\n",
              "264    2021-08-20    5:08:10 AM  ...              2.45              2\n",
              "266    2021-08-20   12:45:09 PM  ...              5.42              2\n",
              "271    2021-08-21   10:27:31 AM  ...              6.12              1\n",
              "274    2021-08-21    7:36:06 PM  ...              3.34              1\n",
              "276    2021-08-22    6:25:38 AM  ...             11.04              1\n",
              "277    2021-08-22    1:29:33 PM  ...             10.30              1\n",
              "282    2021-08-23    2:38:17 AM  ...              5.10              0\n",
              "297    2021-08-26    4:30:16 AM  ...              8.03              1\n",
              "\n",
              "[28 rows x 7 columns]"
            ]
          },
          "metadata": {},
          "execution_count": 158
        }
      ]
    },
    {
      "cell_type": "markdown",
      "metadata": {
        "id": "ZkuXwtaY08MN"
      },
      "source": [
        "Overall this exercise has given me good insights on my new trading plan. I can consider adding more DOGE trades to increase my profitability and decrease how long I have to hold a trade. Most of my trades are ETH and they tend to be the least profitable. I hold ADA trades the longest. Now I can make some changes and re-evaluate my trading strategy. Happy trading!!"
      ]
    },
    {
      "cell_type": "code",
      "metadata": {
        "colab": {
          "base_uri": "https://localhost:8080/",
          "height": 543
        },
        "id": "eCb8EjC940cj",
        "outputId": "d2ea073c-d38e-4e74-864e-dad969cd38bd"
      },
      "source": [
        "from IPython.display import Image\n",
        "from IPython.core.display import HTML \n",
        "Image(url= 'https://www.upslide.net/wp-content/uploads/2016/06/Clustered-Column-Curbe.gif')"
      ],
      "execution_count": null,
      "outputs": [
        {
          "output_type": "execute_result",
          "data": {
            "text/html": [
              "<img src=\"https://www.upslide.net/wp-content/uploads/2016/06/Clustered-Column-Curbe.gif\"/>"
            ],
            "text/plain": [
              "<IPython.core.display.Image object>"
            ]
          },
          "metadata": {},
          "execution_count": 160
        }
      ]
    }
  ]
}